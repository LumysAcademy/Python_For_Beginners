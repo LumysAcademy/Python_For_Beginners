{
 "cells": [
  {
   "cell_type": "markdown",
   "id": "8b94bf80",
   "metadata": {},
   "source": [
    "# DATATYPE"
   ]
  },
  {
   "cell_type": "markdown",
   "id": "2226135e",
   "metadata": {},
   "source": [
    "### Strings"
   ]
  },
  {
   "cell_type": "markdown",
   "id": "0ead95b9",
   "metadata": {},
   "source": [
    "## "
   ]
  },
  {
   "cell_type": "code",
   "execution_count": 6,
   "id": "24483f16",
   "metadata": {},
   "outputs": [
    {
     "name": "stdout",
     "output_type": "stream",
     "text": [
      "python is easy\n"
     ]
    }
   ],
   "source": [
    "print ( \"python is easy\" )"
   ]
  },
  {
   "cell_type": "code",
   "execution_count": 7,
   "id": "7e688de4",
   "metadata": {},
   "outputs": [
    {
     "name": "stdout",
     "output_type": "stream",
     "text": [
      " python is easy \n"
     ]
    }
   ],
   "source": [
    "print ( ' python is easy ' )"
   ]
  },
  {
   "cell_type": "code",
   "execution_count": 8,
   "id": "78e3cc1d",
   "metadata": {},
   "outputs": [
    {
     "ename": "SyntaxError",
     "evalue": "EOL while scanning string literal (<ipython-input-8-b6cb86c2f259>, line 1)",
     "output_type": "error",
     "traceback": [
      "\u001b[1;36m  File \u001b[1;32m\"<ipython-input-8-b6cb86c2f259>\"\u001b[1;36m, line \u001b[1;32m1\u001b[0m\n\u001b[1;33m    print ( \" python is easy ')\u001b[0m\n\u001b[1;37m                               ^\u001b[0m\n\u001b[1;31mSyntaxError\u001b[0m\u001b[1;31m:\u001b[0m EOL while scanning string literal\n"
     ]
    }
   ],
   "source": [
    "print ( \" python is easy ')"
   ]
  },
  {
   "cell_type": "markdown",
   "id": "13ac8831",
   "metadata": {},
   "source": [
    "#### Int and Float"
   ]
  },
  {
   "cell_type": "code",
   "execution_count": null,
   "id": "a49cea24",
   "metadata": {},
   "outputs": [],
   "source": [
    "print ( 200 )"
   ]
  },
  {
   "cell_type": "code",
   "execution_count": null,
   "id": "04e52339",
   "metadata": {},
   "outputs": [],
   "source": [
    "print (-350 )"
   ]
  },
  {
   "cell_type": "code",
   "execution_count": null,
   "id": "742bcff2",
   "metadata": {},
   "outputs": [],
   "source": [
    "print ( 500.5)"
   ]
  },
  {
   "cell_type": "code",
   "execution_count": null,
   "id": "fd9254b8",
   "metadata": {},
   "outputs": [],
   "source": [
    "print( -6.89)"
   ]
  },
  {
   "cell_type": "markdown",
   "id": "ef76a2d7",
   "metadata": {},
   "source": [
    "### Check Datatype"
   ]
  },
  {
   "cell_type": "code",
   "execution_count": null,
   "id": "80829324",
   "metadata": {
    "scrolled": false
   },
   "outputs": [],
   "source": [
    "print (type ( 'python' ) )"
   ]
  },
  {
   "cell_type": "code",
   "execution_count": null,
   "id": "aa23d886",
   "metadata": {},
   "outputs": [],
   "source": [
    "print (  type ( 'python' )  )"
   ]
  },
  {
   "cell_type": "code",
   "execution_count": null,
   "id": "9fae2195",
   "metadata": {},
   "outputs": [],
   "source": [
    "print (type ( 500) )"
   ]
  },
  {
   "cell_type": "code",
   "execution_count": null,
   "id": "4f3d292a",
   "metadata": {},
   "outputs": [],
   "source": [
    "print (type ( 5.89))"
   ]
  },
  {
   "cell_type": "code",
   "execution_count": null,
   "id": "57675e84",
   "metadata": {},
   "outputs": [],
   "source": [
    "print ( 500+ 500)"
   ]
  },
  {
   "cell_type": "code",
   "execution_count": null,
   "id": "81c325ff",
   "metadata": {},
   "outputs": [],
   "source": [
    "print( 50.5 +5)"
   ]
  },
  {
   "cell_type": "code",
   "execution_count": null,
   "id": "b30611ed",
   "metadata": {},
   "outputs": [],
   "source": [
    "type(200)"
   ]
  },
  {
   "cell_type": "code",
   "execution_count": null,
   "id": "4eb75d9e",
   "metadata": {},
   "outputs": [],
   "source": [
    "type ( '200')"
   ]
  },
  {
   "cell_type": "code",
   "execution_count": null,
   "id": "91334181",
   "metadata": {},
   "outputs": [],
   "source": [
    "print( 200 + '200' )"
   ]
  },
  {
   "cell_type": "code",
   "execution_count": null,
   "id": "3ec9469f",
   "metadata": {},
   "outputs": [],
   "source": [
    "type(200)"
   ]
  },
  {
   "cell_type": "markdown",
   "id": "c31103f6",
   "metadata": {},
   "source": [
    "##### Other Data types"
   ]
  },
  {
   "cell_type": "markdown",
   "id": "5aa9ec78",
   "metadata": {},
   "source": [
    "Strings\n",
    "\n",
    "Integers\n",
    "\n",
    "Floats\n",
    "\n",
    "Dictionary\n",
    "\n",
    "Tuple\n",
    "\n",
    "Set\n",
    "\n",
    "Boolean\n",
    "\n",
    "Binary\n",
    "\n",
    "None\n",
    "\n",
    "complex Numbers\n",
    "\n",
    "Long Numbers\n"
   ]
  },
  {
   "cell_type": "markdown",
   "id": "e81535fe",
   "metadata": {},
   "source": [
    "# VARIABLES"
   ]
  },
  {
   "cell_type": "code",
   "execution_count": null,
   "id": "e8b09201",
   "metadata": {},
   "outputs": [],
   "source": [
    "x = 'simple'"
   ]
  },
  {
   "cell_type": "code",
   "execution_count": null,
   "id": "efb8446a",
   "metadata": {},
   "outputs": [],
   "source": [
    "print (x)"
   ]
  },
  {
   "cell_type": "code",
   "execution_count": null,
   "id": "d3459c51",
   "metadata": {},
   "outputs": [],
   "source": [
    "type (x)"
   ]
  },
  {
   "cell_type": "code",
   "execution_count": null,
   "id": "ab895214",
   "metadata": {},
   "outputs": [],
   "source": [
    "x = 50.5"
   ]
  },
  {
   "cell_type": "code",
   "execution_count": null,
   "id": "abba8c6f",
   "metadata": {},
   "outputs": [],
   "source": [
    "print (x)"
   ]
  },
  {
   "cell_type": "code",
   "execution_count": null,
   "id": "7e491258",
   "metadata": {},
   "outputs": [],
   "source": [
    "type (x)"
   ]
  },
  {
   "cell_type": "code",
   "execution_count": null,
   "id": "47849ce5",
   "metadata": {},
   "outputs": [],
   "source": [
    "x = 50"
   ]
  },
  {
   "cell_type": "code",
   "execution_count": null,
   "id": "f8bb6f74",
   "metadata": {},
   "outputs": [],
   "source": [
    "print (x)"
   ]
  },
  {
   "cell_type": "code",
   "execution_count": null,
   "id": "9c18d58e",
   "metadata": {},
   "outputs": [],
   "source": [
    "type (x)"
   ]
  },
  {
   "cell_type": "markdown",
   "id": "a36f5c30",
   "metadata": {},
   "source": [
    "##### Variable are overwrite with latest values"
   ]
  },
  {
   "cell_type": "code",
   "execution_count": null,
   "id": "8e2354cb",
   "metadata": {},
   "outputs": [],
   "source": [
    "x ='simple'"
   ]
  },
  {
   "cell_type": "code",
   "execution_count": null,
   "id": "f51e1d79",
   "metadata": {},
   "outputs": [],
   "source": [
    "print(x)"
   ]
  },
  {
   "cell_type": "code",
   "execution_count": null,
   "id": "ee3346ca",
   "metadata": {},
   "outputs": [],
   "source": [
    "x = 'pyhton'"
   ]
  },
  {
   "cell_type": "code",
   "execution_count": null,
   "id": "d1639b7a",
   "metadata": {},
   "outputs": [],
   "source": [
    "print(x)"
   ]
  },
  {
   "cell_type": "code",
   "execution_count": null,
   "id": "e01ddb30",
   "metadata": {},
   "outputs": [],
   "source": []
  },
  {
   "cell_type": "markdown",
   "id": "99ff3189",
   "metadata": {},
   "source": [
    "###### Variable are case sensitive"
   ]
  },
  {
   "cell_type": "code",
   "execution_count": null,
   "id": "5c5d91ad",
   "metadata": {},
   "outputs": [],
   "source": [
    "a = 'python'"
   ]
  },
  {
   "cell_type": "code",
   "execution_count": null,
   "id": "253415b2",
   "metadata": {},
   "outputs": [],
   "source": [
    "A = 'simple'"
   ]
  },
  {
   "cell_type": "code",
   "execution_count": null,
   "id": "6de82cdf",
   "metadata": {},
   "outputs": [],
   "source": [
    "print( a )"
   ]
  },
  {
   "cell_type": "code",
   "execution_count": null,
   "id": "45dee86c",
   "metadata": {},
   "outputs": [],
   "source": [
    "print(A)"
   ]
  },
  {
   "cell_type": "code",
   "execution_count": null,
   "id": "6c3a8508",
   "metadata": {},
   "outputs": [],
   "source": [
    "11a ='python'"
   ]
  },
  {
   "cell_type": "code",
   "execution_count": null,
   "id": "e57f6576",
   "metadata": {},
   "outputs": [],
   "source": [
    "a11 ='python'"
   ]
  },
  {
   "cell_type": "markdown",
   "id": "04926d4b",
   "metadata": {},
   "source": [
    "# Collections"
   ]
  },
  {
   "cell_type": "markdown",
   "id": "75e647f1",
   "metadata": {},
   "source": [
    "# LIST"
   ]
  },
  {
   "cell_type": "code",
   "execution_count": null,
   "id": "b901d82d",
   "metadata": {},
   "outputs": [],
   "source": [
    "[1,5,8,3,5]"
   ]
  },
  {
   "cell_type": "code",
   "execution_count": null,
   "id": "711566d6",
   "metadata": {},
   "outputs": [],
   "source": [
    "y=[1,5,8,3,5]"
   ]
  },
  {
   "cell_type": "code",
   "execution_count": null,
   "id": "938fdbdd",
   "metadata": {},
   "outputs": [],
   "source": [
    "print(y)"
   ]
  },
  {
   "cell_type": "code",
   "execution_count": null,
   "id": "d833b67e",
   "metadata": {},
   "outputs": [],
   "source": [
    "['banans','apple']"
   ]
  },
  {
   "cell_type": "code",
   "execution_count": null,
   "id": "6919f705",
   "metadata": {},
   "outputs": [],
   "source": [
    "fruit =['banans','apple']"
   ]
  },
  {
   "cell_type": "code",
   "execution_count": null,
   "id": "62ed2f00",
   "metadata": {},
   "outputs": [],
   "source": [
    "fruit"
   ]
  },
  {
   "cell_type": "code",
   "execution_count": null,
   "id": "999761ba",
   "metadata": {},
   "outputs": [],
   "source": [
    "[ 'banans','apple' ,1,5,8,5.,5.0]"
   ]
  },
  {
   "cell_type": "markdown",
   "id": "3db6d119",
   "metadata": {},
   "source": [
    "#### Indexing"
   ]
  },
  {
   "cell_type": "code",
   "execution_count": null,
   "id": "3ff589f1",
   "metadata": {},
   "outputs": [],
   "source": [
    "y = [8,5,4,9]"
   ]
  },
  {
   "cell_type": "code",
   "execution_count": null,
   "id": "118adc65",
   "metadata": {},
   "outputs": [],
   "source": [
    "y [-1]"
   ]
  },
  {
   "cell_type": "code",
   "execution_count": null,
   "id": "012ab536",
   "metadata": {
    "scrolled": true
   },
   "outputs": [],
   "source": [
    "print ( y [1] )"
   ]
  },
  {
   "cell_type": "code",
   "execution_count": null,
   "id": "e35fc24c",
   "metadata": {},
   "outputs": [],
   "source": [
    "y[3]"
   ]
  },
  {
   "cell_type": "code",
   "execution_count": null,
   "id": "dd140130",
   "metadata": {},
   "outputs": [],
   "source": [
    "x = [1,5,8,9,4,8,8,5,1,7,5,7,5,4,8,5,4,78,47,8,5,85,4]"
   ]
  },
  {
   "cell_type": "code",
   "execution_count": null,
   "id": "1cd43ece",
   "metadata": {},
   "outputs": [],
   "source": [
    "x[-2]"
   ]
  },
  {
   "cell_type": "markdown",
   "id": "dfce65ce",
   "metadata": {},
   "source": [
    "#### Slicing"
   ]
  },
  {
   "cell_type": "code",
   "execution_count": null,
   "id": "22f66bb2",
   "metadata": {},
   "outputs": [],
   "source": [
    "x= [ 8,5,7,9,7,1]"
   ]
  },
  {
   "cell_type": "code",
   "execution_count": null,
   "id": "aa40a0ca",
   "metadata": {},
   "outputs": [],
   "source": [
    "x[0 : 3]"
   ]
  },
  {
   "cell_type": "code",
   "execution_count": null,
   "id": "abec762a",
   "metadata": {},
   "outputs": [],
   "source": [
    "x [ 1 :4]"
   ]
  },
  {
   "cell_type": "code",
   "execution_count": null,
   "id": "c25b1129",
   "metadata": {
    "scrolled": true
   },
   "outputs": [],
   "source": [
    "x [-5 : -2]"
   ]
  },
  {
   "cell_type": "code",
   "execution_count": null,
   "id": "add16066",
   "metadata": {},
   "outputs": [],
   "source": [
    "x [ 1 : ]"
   ]
  },
  {
   "cell_type": "code",
   "execution_count": null,
   "id": "a39d7a63",
   "metadata": {},
   "outputs": [],
   "source": [
    "x [ : 5]"
   ]
  },
  {
   "cell_type": "markdown",
   "id": "bbf63b8b",
   "metadata": {},
   "source": [
    "#### Adding lists"
   ]
  },
  {
   "cell_type": "code",
   "execution_count": null,
   "id": "91b0c0ee",
   "metadata": {},
   "outputs": [],
   "source": [
    "x= [1,5,8,9]"
   ]
  },
  {
   "cell_type": "code",
   "execution_count": null,
   "id": "25d4ee78",
   "metadata": {},
   "outputs": [],
   "source": [
    "y = [10,50,58]"
   ]
  },
  {
   "cell_type": "code",
   "execution_count": null,
   "id": "7808c6a1",
   "metadata": {},
   "outputs": [],
   "source": [
    "x+y"
   ]
  },
  {
   "cell_type": "code",
   "execution_count": null,
   "id": "47bbb6fb",
   "metadata": {},
   "outputs": [],
   "source": [
    "a=x+y"
   ]
  },
  {
   "cell_type": "code",
   "execution_count": null,
   "id": "fdfd195f",
   "metadata": {},
   "outputs": [],
   "source": [
    "print(a)"
   ]
  },
  {
   "cell_type": "code",
   "execution_count": null,
   "id": "be1f1ae2",
   "metadata": {},
   "outputs": [],
   "source": [
    "b = y+x"
   ]
  },
  {
   "cell_type": "code",
   "execution_count": null,
   "id": "09e142ce",
   "metadata": {},
   "outputs": [],
   "source": [
    "print(b)"
   ]
  },
  {
   "cell_type": "markdown",
   "id": "df10cc02",
   "metadata": {},
   "source": [
    "#### Inserting Elements to the List"
   ]
  },
  {
   "cell_type": "code",
   "execution_count": null,
   "id": "c5c72fc3",
   "metadata": {},
   "outputs": [],
   "source": [
    "#Inserting to the end of the list"
   ]
  },
  {
   "cell_type": "code",
   "execution_count": null,
   "id": "487694d4",
   "metadata": {},
   "outputs": [],
   "source": [
    "x"
   ]
  },
  {
   "cell_type": "code",
   "execution_count": null,
   "id": "5e628342",
   "metadata": {},
   "outputs": [],
   "source": [
    "x.append(156)"
   ]
  },
  {
   "cell_type": "code",
   "execution_count": null,
   "id": "116c9a89",
   "metadata": {},
   "outputs": [],
   "source": [
    "print(x)"
   ]
  },
  {
   "cell_type": "code",
   "execution_count": null,
   "id": "a54fd397",
   "metadata": {},
   "outputs": [],
   "source": [
    "x.append(200)"
   ]
  },
  {
   "cell_type": "code",
   "execution_count": null,
   "id": "057a9577",
   "metadata": {},
   "outputs": [],
   "source": [
    "print(x)"
   ]
  },
  {
   "cell_type": "code",
   "execution_count": null,
   "id": "1ce94385",
   "metadata": {},
   "outputs": [],
   "source": [
    "#Inserting to a specific position"
   ]
  },
  {
   "cell_type": "code",
   "execution_count": null,
   "id": "a61993fa",
   "metadata": {},
   "outputs": [],
   "source": [
    "x.insert(1,100)"
   ]
  },
  {
   "cell_type": "code",
   "execution_count": null,
   "id": "e5d368e5",
   "metadata": {},
   "outputs": [],
   "source": [
    "print(x)"
   ]
  },
  {
   "cell_type": "code",
   "execution_count": null,
   "id": "e773d7d0",
   "metadata": {},
   "outputs": [],
   "source": [
    "x.insert(4, 500)"
   ]
  },
  {
   "cell_type": "code",
   "execution_count": null,
   "id": "8defad05",
   "metadata": {},
   "outputs": [],
   "source": [
    "print(x)"
   ]
  },
  {
   "cell_type": "code",
   "execution_count": null,
   "id": "911d22db",
   "metadata": {},
   "outputs": [],
   "source": [
    "#Deleting elements from a list"
   ]
  },
  {
   "cell_type": "code",
   "execution_count": null,
   "id": "e6eec622",
   "metadata": {},
   "outputs": [],
   "source": [
    "x"
   ]
  },
  {
   "cell_type": "code",
   "execution_count": null,
   "id": "580e8493",
   "metadata": {},
   "outputs": [],
   "source": [
    "x.remove ( 100)"
   ]
  },
  {
   "cell_type": "code",
   "execution_count": null,
   "id": "919df3cc",
   "metadata": {},
   "outputs": [],
   "source": [
    "x"
   ]
  },
  {
   "cell_type": "code",
   "execution_count": null,
   "id": "a83d7c82",
   "metadata": {},
   "outputs": [],
   "source": [
    "x.remove ( 500)"
   ]
  },
  {
   "cell_type": "code",
   "execution_count": null,
   "id": "97de6995",
   "metadata": {},
   "outputs": [],
   "source": [
    "x"
   ]
  },
  {
   "cell_type": "code",
   "execution_count": null,
   "id": "a41de488",
   "metadata": {},
   "outputs": [],
   "source": [
    "#Deleting elements with position"
   ]
  },
  {
   "cell_type": "code",
   "execution_count": null,
   "id": "ea220fdd",
   "metadata": {},
   "outputs": [],
   "source": [
    "x.pop (4)"
   ]
  },
  {
   "cell_type": "code",
   "execution_count": null,
   "id": "f5749acd",
   "metadata": {},
   "outputs": [],
   "source": [
    "x"
   ]
  },
  {
   "cell_type": "code",
   "execution_count": null,
   "id": "e463c9df",
   "metadata": {},
   "outputs": [],
   "source": [
    "x.pop(4)"
   ]
  },
  {
   "cell_type": "code",
   "execution_count": null,
   "id": "4670678e",
   "metadata": {},
   "outputs": [],
   "source": [
    "x"
   ]
  },
  {
   "cell_type": "code",
   "execution_count": null,
   "id": "0c48a27e",
   "metadata": {},
   "outputs": [],
   "source": [
    "x.pop(-1)"
   ]
  },
  {
   "cell_type": "code",
   "execution_count": null,
   "id": "4b673de4",
   "metadata": {
    "scrolled": true
   },
   "outputs": [],
   "source": [
    "x"
   ]
  },
  {
   "cell_type": "markdown",
   "id": "667041c1",
   "metadata": {},
   "source": [
    "#### Sort"
   ]
  },
  {
   "cell_type": "code",
   "execution_count": null,
   "id": "00fe003b",
   "metadata": {},
   "outputs": [],
   "source": [
    "x =[ 1,8,96,4,7,85,63,2,54,8]"
   ]
  },
  {
   "cell_type": "code",
   "execution_count": null,
   "id": "c511a26e",
   "metadata": {},
   "outputs": [],
   "source": [
    "x.sort ()"
   ]
  },
  {
   "cell_type": "code",
   "execution_count": null,
   "id": "664e41d9",
   "metadata": {},
   "outputs": [],
   "source": [
    "x"
   ]
  },
  {
   "cell_type": "code",
   "execution_count": null,
   "id": "6840f9eb",
   "metadata": {},
   "outputs": [],
   "source": [
    "x.sort ( reverse=True)"
   ]
  },
  {
   "cell_type": "code",
   "execution_count": null,
   "id": "58868b50",
   "metadata": {},
   "outputs": [],
   "source": [
    "x"
   ]
  },
  {
   "cell_type": "markdown",
   "id": "54e24e61",
   "metadata": {},
   "source": [
    "#### Length"
   ]
  },
  {
   "cell_type": "code",
   "execution_count": null,
   "id": "b181a95c",
   "metadata": {},
   "outputs": [],
   "source": [
    "x"
   ]
  },
  {
   "cell_type": "code",
   "execution_count": null,
   "id": "3856e9cf",
   "metadata": {},
   "outputs": [],
   "source": [
    " len(x)"
   ]
  },
  {
   "cell_type": "code",
   "execution_count": null,
   "id": "a64ff42a",
   "metadata": {},
   "outputs": [],
   "source": [
    "print (  len(x) )"
   ]
  },
  {
   "cell_type": "markdown",
   "id": "c0adf500",
   "metadata": {},
   "source": [
    "# Tuple"
   ]
  },
  {
   "cell_type": "code",
   "execution_count": null,
   "id": "b6388e44",
   "metadata": {},
   "outputs": [],
   "source": [
    "y = (1,5,8,3,5)"
   ]
  },
  {
   "cell_type": "code",
   "execution_count": null,
   "id": "5a14c20f",
   "metadata": {},
   "outputs": [],
   "source": [
    "print(y)"
   ]
  },
  {
   "cell_type": "code",
   "execution_count": null,
   "id": "e8392c06",
   "metadata": {},
   "outputs": [],
   "source": [
    "y[2]"
   ]
  },
  {
   "cell_type": "code",
   "execution_count": null,
   "id": "9588cea5",
   "metadata": {},
   "outputs": [],
   "source": [
    "y[3]"
   ]
  },
  {
   "cell_type": "code",
   "execution_count": null,
   "id": "a86cffb4",
   "metadata": {},
   "outputs": [],
   "source": [
    "y"
   ]
  },
  {
   "cell_type": "code",
   "execution_count": null,
   "id": "c546ce20",
   "metadata": {},
   "outputs": [],
   "source": [
    "y [ 1 :4 ]"
   ]
  },
  {
   "cell_type": "code",
   "execution_count": null,
   "id": "cdabe008",
   "metadata": {},
   "outputs": [],
   "source": [
    "y"
   ]
  },
  {
   "cell_type": "code",
   "execution_count": null,
   "id": "6e6f3f44",
   "metadata": {},
   "outputs": [],
   "source": [
    "y.append(5)"
   ]
  },
  {
   "cell_type": "code",
   "execution_count": null,
   "id": "2133d6b7",
   "metadata": {
    "scrolled": true
   },
   "outputs": [],
   "source": [
    "y.remove(8)"
   ]
  },
  {
   "cell_type": "code",
   "execution_count": null,
   "id": "5dfc33b9",
   "metadata": {},
   "outputs": [],
   "source": [
    "print ( len (y)  )"
   ]
  },
  {
   "cell_type": "code",
   "execution_count": null,
   "id": "3ab132ef",
   "metadata": {},
   "outputs": [],
   "source": [
    "x =( 1,5,9)"
   ]
  },
  {
   "cell_type": "code",
   "execution_count": null,
   "id": "77af8216",
   "metadata": {},
   "outputs": [],
   "source": [
    "(a,b,c) = x"
   ]
  },
  {
   "cell_type": "code",
   "execution_count": null,
   "id": "bc998741",
   "metadata": {},
   "outputs": [],
   "source": [
    "a"
   ]
  },
  {
   "cell_type": "code",
   "execution_count": null,
   "id": "20379180",
   "metadata": {},
   "outputs": [],
   "source": [
    "b"
   ]
  },
  {
   "cell_type": "code",
   "execution_count": null,
   "id": "186c7c4d",
   "metadata": {
    "scrolled": true
   },
   "outputs": [],
   "source": [
    "c"
   ]
  },
  {
   "cell_type": "code",
   "execution_count": null,
   "id": "23b2531c",
   "metadata": {},
   "outputs": [],
   "source": [
    "y = { 1,5,8,3,5}"
   ]
  },
  {
   "cell_type": "code",
   "execution_count": null,
   "id": "e6e8f2e3",
   "metadata": {},
   "outputs": [],
   "source": [
    "type(y)"
   ]
  },
  {
   "cell_type": "code",
   "execution_count": null,
   "id": "b84118d2",
   "metadata": {},
   "outputs": [],
   "source": [
    "print(y)"
   ]
  },
  {
   "cell_type": "code",
   "execution_count": null,
   "id": "d2cd3485",
   "metadata": {},
   "outputs": [],
   "source": [
    "x=set()"
   ]
  },
  {
   "cell_type": "code",
   "execution_count": null,
   "id": "e3679be5",
   "metadata": {},
   "outputs": [],
   "source": [
    "type(x)"
   ]
  },
  {
   "cell_type": "code",
   "execution_count": null,
   "id": "853975bc",
   "metadata": {},
   "outputs": [],
   "source": [
    "print(x)"
   ]
  },
  {
   "cell_type": "code",
   "execution_count": null,
   "id": "5b96d180",
   "metadata": {},
   "outputs": [],
   "source": [
    "x.add(5)"
   ]
  },
  {
   "cell_type": "code",
   "execution_count": null,
   "id": "19a29da6",
   "metadata": {},
   "outputs": [],
   "source": [
    "print(x)"
   ]
  },
  {
   "cell_type": "code",
   "execution_count": null,
   "id": "cb6dfb75",
   "metadata": {},
   "outputs": [],
   "source": [
    "x.add(10)"
   ]
  },
  {
   "cell_type": "code",
   "execution_count": null,
   "id": "0ce9b24e",
   "metadata": {},
   "outputs": [],
   "source": [
    "print(x)"
   ]
  },
  {
   "cell_type": "code",
   "execution_count": null,
   "id": "0f4ce1cb",
   "metadata": {},
   "outputs": [],
   "source": [
    "x.remove(10)"
   ]
  },
  {
   "cell_type": "code",
   "execution_count": null,
   "id": "3b09d763",
   "metadata": {},
   "outputs": [],
   "source": [
    "print(x)"
   ]
  },
  {
   "cell_type": "code",
   "execution_count": null,
   "id": "f00a2aa3",
   "metadata": {},
   "outputs": [],
   "source": [
    "p=[1,3,5,8]"
   ]
  },
  {
   "cell_type": "code",
   "execution_count": null,
   "id": "e8307f99",
   "metadata": {},
   "outputs": [],
   "source": [
    "x.update(p)"
   ]
  },
  {
   "cell_type": "code",
   "execution_count": null,
   "id": "32a67ad7",
   "metadata": {},
   "outputs": [],
   "source": [
    "print(x)"
   ]
  },
  {
   "cell_type": "code",
   "execution_count": null,
   "id": "8ea3e4e6",
   "metadata": {},
   "outputs": [],
   "source": [
    "q=[10,20,30]"
   ]
  },
  {
   "cell_type": "code",
   "execution_count": null,
   "id": "2bb5e67c",
   "metadata": {},
   "outputs": [],
   "source": [
    "x.update(q)"
   ]
  },
  {
   "cell_type": "code",
   "execution_count": null,
   "id": "2cff2a76",
   "metadata": {},
   "outputs": [],
   "source": [
    "print(x)"
   ]
  },
  {
   "cell_type": "code",
   "execution_count": null,
   "id": "8e4d9fe7",
   "metadata": {},
   "outputs": [],
   "source": [
    "s=[20,3,56,8]"
   ]
  },
  {
   "cell_type": "code",
   "execution_count": null,
   "id": "8f0f23f8",
   "metadata": {},
   "outputs": [],
   "source": [
    "s=set(s)"
   ]
  },
  {
   "cell_type": "code",
   "execution_count": null,
   "id": "1a4092a6",
   "metadata": {},
   "outputs": [],
   "source": [
    "s=[1,2,3,4,5,5,5,5,4]"
   ]
  },
  {
   "cell_type": "code",
   "execution_count": null,
   "id": "38e76741",
   "metadata": {},
   "outputs": [],
   "source": [
    "s=set(s)"
   ]
  },
  {
   "cell_type": "code",
   "execution_count": null,
   "id": "a64d2c6f",
   "metadata": {},
   "outputs": [],
   "source": [
    "print(s)"
   ]
  },
  {
   "cell_type": "code",
   "execution_count": null,
   "id": "3567020a",
   "metadata": {},
   "outputs": [],
   "source": [
    "s=list(s)"
   ]
  },
  {
   "cell_type": "code",
   "execution_count": null,
   "id": "980424ed",
   "metadata": {},
   "outputs": [],
   "source": [
    "print(s)"
   ]
  },
  {
   "cell_type": "markdown",
   "id": "38b26f72",
   "metadata": {},
   "source": [
    "# DICTIONARY"
   ]
  },
  {
   "cell_type": "code",
   "execution_count": null,
   "id": "fc8abd12",
   "metadata": {},
   "outputs": [],
   "source": [
    "d = { 'item1': 100 , 'item2' : 175 ,'item3':400}"
   ]
  },
  {
   "cell_type": "code",
   "execution_count": null,
   "id": "2392fbc7",
   "metadata": {},
   "outputs": [],
   "source": [
    "print(d)"
   ]
  },
  {
   "cell_type": "code",
   "execution_count": null,
   "id": "0f0d62ae",
   "metadata": {},
   "outputs": [],
   "source": [
    "len(d)"
   ]
  },
  {
   "cell_type": "code",
   "execution_count": null,
   "id": "74bcd3ce",
   "metadata": {},
   "outputs": [],
   "source": [
    "type(d)"
   ]
  },
  {
   "cell_type": "code",
   "execution_count": null,
   "id": "d3b8699c",
   "metadata": {},
   "outputs": [],
   "source": [
    "d['item4'] = 899"
   ]
  },
  {
   "cell_type": "code",
   "execution_count": null,
   "id": "1bd18592",
   "metadata": {},
   "outputs": [],
   "source": [
    "print(d)"
   ]
  },
  {
   "cell_type": "code",
   "execution_count": null,
   "id": "facfdf83",
   "metadata": {},
   "outputs": [],
   "source": [
    "d['item2'] = 1750"
   ]
  },
  {
   "cell_type": "code",
   "execution_count": null,
   "id": "c9a898a2",
   "metadata": {},
   "outputs": [],
   "source": [
    "print(d)"
   ]
  },
  {
   "cell_type": "code",
   "execution_count": null,
   "id": "c17040c0",
   "metadata": {},
   "outputs": [],
   "source": [
    "del d['item4']"
   ]
  },
  {
   "cell_type": "code",
   "execution_count": null,
   "id": "25d4ecff",
   "metadata": {},
   "outputs": [],
   "source": [
    "print(d)"
   ]
  },
  {
   "cell_type": "code",
   "execution_count": null,
   "id": "03ccf757",
   "metadata": {},
   "outputs": [],
   "source": [
    "c=dict()"
   ]
  },
  {
   "cell_type": "code",
   "execution_count": null,
   "id": "f4ef1d4a",
   "metadata": {},
   "outputs": [],
   "source": [
    "c"
   ]
  },
  {
   "cell_type": "code",
   "execution_count": null,
   "id": "64177ce8",
   "metadata": {},
   "outputs": [],
   "source": [
    "type(c)"
   ]
  },
  {
   "cell_type": "code",
   "execution_count": null,
   "id": "3d13a238",
   "metadata": {},
   "outputs": [],
   "source": [
    "c['Name1'] = 'John'"
   ]
  },
  {
   "cell_type": "code",
   "execution_count": null,
   "id": "174d3987",
   "metadata": {},
   "outputs": [],
   "source": [
    "print(c)"
   ]
  },
  {
   "cell_type": "code",
   "execution_count": null,
   "id": "73095a02",
   "metadata": {},
   "outputs": [],
   "source": [
    "c['Age'] =25"
   ]
  },
  {
   "cell_type": "code",
   "execution_count": null,
   "id": "da12d819",
   "metadata": {},
   "outputs": [],
   "source": [
    "print(c)"
   ]
  },
  {
   "cell_type": "code",
   "execution_count": null,
   "id": "7e039d62",
   "metadata": {},
   "outputs": [],
   "source": [
    "p1 = ['a','b','c']\n",
    "p2= [1,2,3]"
   ]
  },
  {
   "cell_type": "code",
   "execution_count": null,
   "id": "6700e1b6",
   "metadata": {},
   "outputs": [],
   "source": [
    "a = dict ( zip (p1, p2))"
   ]
  },
  {
   "cell_type": "code",
   "execution_count": null,
   "id": "8105bfd2",
   "metadata": {},
   "outputs": [],
   "source": [
    "print(a)"
   ]
  },
  {
   "cell_type": "code",
   "execution_count": null,
   "id": "0e28edec",
   "metadata": {},
   "outputs": [],
   "source": [
    "t1 = ('a','b','c')\n",
    "t2= (1,2,3)"
   ]
  },
  {
   "cell_type": "code",
   "execution_count": null,
   "id": "5419e8a3",
   "metadata": {},
   "outputs": [],
   "source": [
    "b= dict( zip(t1,t2))"
   ]
  },
  {
   "cell_type": "code",
   "execution_count": null,
   "id": "2dddb009",
   "metadata": {},
   "outputs": [],
   "source": [
    "print(b)"
   ]
  },
  {
   "cell_type": "code",
   "execution_count": null,
   "id": "cf0807af",
   "metadata": {},
   "outputs": [],
   "source": [
    "b.items()"
   ]
  },
  {
   "cell_type": "markdown",
   "id": "b9e5f28d",
   "metadata": {},
   "source": [
    "# Contol Statements"
   ]
  },
  {
   "cell_type": "markdown",
   "id": "709c7f33",
   "metadata": {},
   "source": [
    "# If Elif Else Statement"
   ]
  },
  {
   "cell_type": "code",
   "execution_count": null,
   "id": "7fa25558",
   "metadata": {},
   "outputs": [],
   "source": [
    "x= 8"
   ]
  },
  {
   "cell_type": "code",
   "execution_count": null,
   "id": "c8ffd53e",
   "metadata": {},
   "outputs": [],
   "source": [
    "print(x)"
   ]
  },
  {
   "cell_type": "code",
   "execution_count": null,
   "id": "a228f94e",
   "metadata": {},
   "outputs": [],
   "source": [
    "if x < 10 :\n",
    "    print('x is less than 10')    \n",
    "print ('END')"
   ]
  },
  {
   "cell_type": "code",
   "execution_count": null,
   "id": "96c2722b",
   "metadata": {},
   "outputs": [],
   "source": [
    "x = 12"
   ]
  },
  {
   "cell_type": "code",
   "execution_count": null,
   "id": "0b648b44",
   "metadata": {},
   "outputs": [],
   "source": [
    "print(x)"
   ]
  },
  {
   "cell_type": "code",
   "execution_count": null,
   "id": "00c442b3",
   "metadata": {},
   "outputs": [],
   "source": [
    "if x < 10 :\n",
    "    print('x is less than 10')    \n",
    "print ('END')"
   ]
  },
  {
   "cell_type": "code",
   "execution_count": null,
   "id": "0f5578f6",
   "metadata": {},
   "outputs": [],
   "source": [
    "x=7"
   ]
  },
  {
   "cell_type": "code",
   "execution_count": null,
   "id": "f0d36c9b",
   "metadata": {},
   "outputs": [],
   "source": [
    "print(x)"
   ]
  },
  {
   "cell_type": "code",
   "execution_count": null,
   "id": "c20e5fcc",
   "metadata": {},
   "outputs": [],
   "source": [
    "if x < 10 :\n",
    "    print('x is less than 10')  \n",
    "    print('Second line')\n",
    "    print('Third line')\n",
    "print ('END')"
   ]
  },
  {
   "cell_type": "code",
   "execution_count": null,
   "id": "3dc460f7",
   "metadata": {},
   "outputs": [],
   "source": [
    "x=20"
   ]
  },
  {
   "cell_type": "code",
   "execution_count": null,
   "id": "eb93e114",
   "metadata": {},
   "outputs": [],
   "source": [
    "print(x)"
   ]
  },
  {
   "cell_type": "code",
   "execution_count": null,
   "id": "336e8256",
   "metadata": {},
   "outputs": [],
   "source": [
    "if x < 10 :\n",
    "    print('x is less than 10')  \n",
    "    print('Second line')\n",
    "    print('Third line')\n",
    "print ('END')"
   ]
  },
  {
   "cell_type": "code",
   "execution_count": null,
   "id": "c011b1a6",
   "metadata": {},
   "outputs": [],
   "source": [
    "print(x)"
   ]
  },
  {
   "cell_type": "code",
   "execution_count": null,
   "id": "8295d0d3",
   "metadata": {},
   "outputs": [],
   "source": [
    "if x < 10:\n",
    "    print('x is less than 10')\n",
    "else :\n",
    "    print ('X is greater than 10')\n",
    "print('END')"
   ]
  },
  {
   "cell_type": "code",
   "execution_count": null,
   "id": "325c1c81",
   "metadata": {},
   "outputs": [],
   "source": [
    "x=5"
   ]
  },
  {
   "cell_type": "code",
   "execution_count": null,
   "id": "c6f7e893",
   "metadata": {},
   "outputs": [],
   "source": [
    "print(x)"
   ]
  },
  {
   "cell_type": "code",
   "execution_count": null,
   "id": "6b8c66e7",
   "metadata": {},
   "outputs": [],
   "source": [
    "if x < 10:\n",
    "    print('x is less than 10')\n",
    "else :\n",
    "    print ('X is greater than 10')\n",
    "print('END')"
   ]
  },
  {
   "cell_type": "code",
   "execution_count": null,
   "id": "f1d72933",
   "metadata": {},
   "outputs": [],
   "source": [
    "print(x)"
   ]
  },
  {
   "cell_type": "code",
   "execution_count": null,
   "id": "05044218",
   "metadata": {},
   "outputs": [],
   "source": [
    "if x <10:\n",
    "    print('value of x is less than 10')\n",
    "elif x < 20 :\n",
    "    print( 'value between 10 and 20')\n",
    "else:\n",
    "    print ('value is greater than 20')"
   ]
  },
  {
   "cell_type": "code",
   "execution_count": null,
   "id": "7a2c2536",
   "metadata": {},
   "outputs": [],
   "source": [
    "x = 15\n",
    "print(x)"
   ]
  },
  {
   "cell_type": "code",
   "execution_count": null,
   "id": "2d3fb600",
   "metadata": {},
   "outputs": [],
   "source": [
    "if x <10:\n",
    "    print('value of x is less than 10')\n",
    "elif x < 20 :\n",
    "    print( 'value between 10 and 20')\n",
    "else:\n",
    "    print ('value is greater than 20')"
   ]
  },
  {
   "cell_type": "code",
   "execution_count": null,
   "id": "acecef97",
   "metadata": {},
   "outputs": [],
   "source": [
    "x = 25\n",
    "print(x)"
   ]
  },
  {
   "cell_type": "code",
   "execution_count": null,
   "id": "e2bfef59",
   "metadata": {},
   "outputs": [],
   "source": [
    "if x <10:\n",
    "    print('value of x is less than 10')\n",
    "elif x < 20 :\n",
    "    print( 'value between 10 and 20')\n",
    "else:\n",
    "    print ('value is greater than 20')"
   ]
  },
  {
   "cell_type": "markdown",
   "id": "bad6806b",
   "metadata": {},
   "source": [
    "# While Loop"
   ]
  },
  {
   "cell_type": "code",
   "execution_count": null,
   "id": "a469d367",
   "metadata": {},
   "outputs": [],
   "source": [
    "x = 7\n",
    "print('value of x is ',x)"
   ]
  },
  {
   "cell_type": "code",
   "execution_count": null,
   "id": "dc3a37c1",
   "metadata": {
    "scrolled": true
   },
   "outputs": [],
   "source": [
    "x < 10"
   ]
  },
  {
   "cell_type": "code",
   "execution_count": 76,
   "id": "bbcfd448",
   "metadata": {},
   "outputs": [
    {
     "name": "stdout",
     "output_type": "stream",
     "text": [
      "value of x is  15\n"
     ]
    }
   ],
   "source": [
    "x = 15\n",
    "print('value of x is ',x)"
   ]
  },
  {
   "cell_type": "code",
   "execution_count": 77,
   "id": "949acec0",
   "metadata": {
    "scrolled": true
   },
   "outputs": [
    {
     "data": {
      "text/plain": [
       "False"
      ]
     },
     "execution_count": 77,
     "metadata": {},
     "output_type": "execute_result"
    }
   ],
   "source": [
    "x < 10"
   ]
  },
  {
   "cell_type": "code",
   "execution_count": 71,
   "id": "f485dc14",
   "metadata": {},
   "outputs": [
    {
     "name": "stdout",
     "output_type": "stream",
     "text": [
      "value of x is 7\n",
      "new value of  x is  8\n",
      "value of x is 8\n",
      "new value of  x is  9\n",
      "value of x is 9\n",
      "new value of  x is  10\n"
     ]
    }
   ],
   "source": [
    "while x < 10 :\n",
    "    print ('value of x is',x)  \n",
    "    x = x +1\n",
    "    print ('new value of  x is ',x)"
   ]
  },
  {
   "cell_type": "code",
   "execution_count": 73,
   "id": "87831bb5",
   "metadata": {},
   "outputs": [
    {
     "name": "stdout",
     "output_type": "stream",
     "text": [
      "6\n"
     ]
    }
   ],
   "source": [
    "x =6\n",
    "print(x)"
   ]
  },
  {
   "cell_type": "code",
   "execution_count": 74,
   "id": "6ca52e06",
   "metadata": {},
   "outputs": [
    {
     "name": "stdout",
     "output_type": "stream",
     "text": [
      "value of x is 6\n",
      "value of x is 7\n",
      "value of x is 8\n",
      "value of x is 9\n",
      "End of while loop\n"
     ]
    }
   ],
   "source": [
    "while x < 10 :\n",
    "    print ('value of x is',x)  \n",
    "    x = x + 1\n",
    "\n",
    "print('End of while loop')"
   ]
  },
  {
   "cell_type": "code",
   "execution_count": 75,
   "id": "7c8dd4b9",
   "metadata": {},
   "outputs": [
    {
     "name": "stdout",
     "output_type": "stream",
     "text": [
      "value of x is 8\n",
      "value of x is 9\n",
      "Else statements\n"
     ]
    }
   ],
   "source": [
    "x=8\n",
    "while x < 10 :\n",
    "    print ('value of x is',x)  \n",
    "    x = x + 1\n",
    "else:\n",
    "    print('Else statements')"
   ]
  },
  {
   "cell_type": "code",
   "execution_count": 60,
   "id": "1cd574f3",
   "metadata": {},
   "outputs": [
    {
     "name": "stdout",
     "output_type": "stream",
     "text": [
      "5\n"
     ]
    }
   ],
   "source": [
    "x= 5\n",
    "print(x)"
   ]
  },
  {
   "cell_type": "code",
   "execution_count": 61,
   "id": "5129cc47",
   "metadata": {},
   "outputs": [
    {
     "name": "stdout",
     "output_type": "stream",
     "text": [
      "10\n"
     ]
    }
   ],
   "source": [
    "y= x+5\n",
    "print(y)"
   ]
  },
  {
   "cell_type": "code",
   "execution_count": 62,
   "id": "57c148e9",
   "metadata": {},
   "outputs": [],
   "source": [
    "x = y"
   ]
  },
  {
   "cell_type": "code",
   "execution_count": 63,
   "id": "b7132c73",
   "metadata": {},
   "outputs": [
    {
     "name": "stdout",
     "output_type": "stream",
     "text": [
      "10\n"
     ]
    }
   ],
   "source": [
    "print(x)"
   ]
  },
  {
   "cell_type": "code",
   "execution_count": 65,
   "id": "7b94cc70",
   "metadata": {},
   "outputs": [
    {
     "name": "stdout",
     "output_type": "stream",
     "text": [
      "10\n"
     ]
    }
   ],
   "source": [
    "x =10\n",
    "print(x)"
   ]
  },
  {
   "cell_type": "code",
   "execution_count": 66,
   "id": "fd4949eb",
   "metadata": {},
   "outputs": [],
   "source": [
    "x = x +8 "
   ]
  },
  {
   "cell_type": "code",
   "execution_count": 67,
   "id": "5304b503",
   "metadata": {},
   "outputs": [
    {
     "name": "stdout",
     "output_type": "stream",
     "text": [
      "18\n"
     ]
    }
   ],
   "source": [
    "print(x)"
   ]
  },
  {
   "cell_type": "markdown",
   "id": "33a25e56",
   "metadata": {},
   "source": [
    "# FOR LOOP"
   ]
  },
  {
   "cell_type": "code",
   "execution_count": 86,
   "id": "047d986a",
   "metadata": {},
   "outputs": [
    {
     "name": "stdout",
     "output_type": "stream",
     "text": [
      "This is a for loop\n"
     ]
    }
   ],
   "source": [
    "print('This is a for loop')"
   ]
  },
  {
   "cell_type": "code",
   "execution_count": 95,
   "id": "983bcaf1",
   "metadata": {},
   "outputs": [
    {
     "name": "stdout",
     "output_type": "stream",
     "text": [
      "[1, 8, 9, 6]\n"
     ]
    }
   ],
   "source": [
    "x = [1,8,9,6]\n",
    "print(x)"
   ]
  },
  {
   "cell_type": "code",
   "execution_count": 96,
   "id": "45c80b78",
   "metadata": {},
   "outputs": [
    {
     "data": {
      "text/plain": [
       "4"
      ]
     },
     "execution_count": 96,
     "metadata": {},
     "output_type": "execute_result"
    }
   ],
   "source": [
    "len(x)"
   ]
  },
  {
   "cell_type": "code",
   "execution_count": 89,
   "id": "77eeb652",
   "metadata": {},
   "outputs": [
    {
     "name": "stdout",
     "output_type": "stream",
     "text": [
      "This is a for loop\n",
      "This is a for loop\n",
      "This is a for loop\n",
      "This is a for loop\n"
     ]
    }
   ],
   "source": [
    "for i in x :\n",
    "    print('This is a for loop')"
   ]
  },
  {
   "cell_type": "code",
   "execution_count": 92,
   "id": "b6269ca0",
   "metadata": {},
   "outputs": [
    {
     "name": "stdout",
     "output_type": "stream",
     "text": [
      "[1, 8, 9, 6, 10, 20]\n"
     ]
    }
   ],
   "source": [
    "y = [1,8,9,6 ,10 ,20]\n",
    "print(y)"
   ]
  },
  {
   "cell_type": "code",
   "execution_count": 97,
   "id": "eb28bb32",
   "metadata": {},
   "outputs": [
    {
     "data": {
      "text/plain": [
       "6"
      ]
     },
     "execution_count": 97,
     "metadata": {},
     "output_type": "execute_result"
    }
   ],
   "source": [
    "len(y)"
   ]
  },
  {
   "cell_type": "code",
   "execution_count": 93,
   "id": "caa347f1",
   "metadata": {},
   "outputs": [
    {
     "name": "stdout",
     "output_type": "stream",
     "text": [
      "This is a for loop\n",
      "This is a for loop\n",
      "This is a for loop\n",
      "This is a for loop\n",
      "This is a for loop\n",
      "This is a for loop\n"
     ]
    }
   ],
   "source": [
    "for i in y :\n",
    "    print('This is a for loop')"
   ]
  },
  {
   "cell_type": "code",
   "execution_count": 100,
   "id": "fcf099a9",
   "metadata": {},
   "outputs": [
    {
     "name": "stdout",
     "output_type": "stream",
     "text": [
      "Python3\n"
     ]
    }
   ],
   "source": [
    "z= 'Python3'\n",
    "print(z)"
   ]
  },
  {
   "cell_type": "code",
   "execution_count": 101,
   "id": "bb12e240",
   "metadata": {},
   "outputs": [
    {
     "data": {
      "text/plain": [
       "7"
      ]
     },
     "execution_count": 101,
     "metadata": {},
     "output_type": "execute_result"
    }
   ],
   "source": [
    "len(z)"
   ]
  },
  {
   "cell_type": "code",
   "execution_count": 102,
   "id": "e279196b",
   "metadata": {},
   "outputs": [
    {
     "name": "stdout",
     "output_type": "stream",
     "text": [
      "this is a for loop\n",
      "this is a for loop\n",
      "this is a for loop\n",
      "this is a for loop\n",
      "this is a for loop\n",
      "this is a for loop\n",
      "this is a for loop\n"
     ]
    }
   ],
   "source": [
    "for i in z :\n",
    "    print('this is a for loop')"
   ]
  },
  {
   "cell_type": "code",
   "execution_count": 104,
   "id": "2e654b61",
   "metadata": {},
   "outputs": [
    {
     "name": "stdout",
     "output_type": "stream",
     "text": [
      "Python3\n"
     ]
    }
   ],
   "source": [
    "print(z)"
   ]
  },
  {
   "cell_type": "code",
   "execution_count": 103,
   "id": "d749218a",
   "metadata": {
    "scrolled": true
   },
   "outputs": [
    {
     "name": "stdout",
     "output_type": "stream",
     "text": [
      "value of i is P\n",
      "value of i is y\n",
      "value of i is t\n",
      "value of i is h\n",
      "value of i is o\n",
      "value of i is n\n",
      "value of i is 3\n"
     ]
    }
   ],
   "source": [
    "for i in z :\n",
    "    print ( 'value of i is' ,i)"
   ]
  },
  {
   "cell_type": "code",
   "execution_count": 105,
   "id": "e13168f7",
   "metadata": {},
   "outputs": [
    {
     "name": "stdout",
     "output_type": "stream",
     "text": [
      "[1, 8, 9, 6]\n"
     ]
    }
   ],
   "source": [
    "x = [1,8,9,6]\n",
    "print(x)"
   ]
  },
  {
   "cell_type": "code",
   "execution_count": 107,
   "id": "1839690f",
   "metadata": {},
   "outputs": [
    {
     "name": "stdout",
     "output_type": "stream",
     "text": [
      "value of i is  1\n",
      "value of i is  8\n",
      "value of i is  9\n",
      "value of i is  6\n"
     ]
    }
   ],
   "source": [
    "for i in x:\n",
    "    print('value of i is ', i)"
   ]
  },
  {
   "cell_type": "code",
   "execution_count": 108,
   "id": "c726fefa",
   "metadata": {},
   "outputs": [
    {
     "name": "stdout",
     "output_type": "stream",
     "text": [
      "value of i is  1\n",
      "value of i is  8\n",
      "value of i is  9\n",
      "value of i is  6\n"
     ]
    }
   ],
   "source": [
    "for j in x:\n",
    "    print('value of i is ', j)"
   ]
  },
  {
   "cell_type": "code",
   "execution_count": 110,
   "id": "812862c1",
   "metadata": {},
   "outputs": [],
   "source": [
    "x=10"
   ]
  },
  {
   "cell_type": "code",
   "execution_count": 112,
   "id": "f3c7b056",
   "metadata": {},
   "outputs": [
    {
     "ename": "TypeError",
     "evalue": "'int' object is not iterable",
     "output_type": "error",
     "traceback": [
      "\u001b[1;31m---------------------------------------------------------------------------\u001b[0m",
      "\u001b[1;31mTypeError\u001b[0m                                 Traceback (most recent call last)",
      "\u001b[1;32m<ipython-input-112-6f01e725598a>\u001b[0m in \u001b[0;36m<module>\u001b[1;34m\u001b[0m\n\u001b[1;32m----> 1\u001b[1;33m \u001b[1;32mfor\u001b[0m \u001b[0mi\u001b[0m \u001b[1;32min\u001b[0m \u001b[0mx\u001b[0m\u001b[1;33m:\u001b[0m\u001b[1;33m\u001b[0m\u001b[1;33m\u001b[0m\u001b[0m\n\u001b[0m\u001b[0;32m      2\u001b[0m     \u001b[0mprint\u001b[0m\u001b[1;33m(\u001b[0m\u001b[1;34m'value of i is'\u001b[0m\u001b[1;33m,\u001b[0m\u001b[0mi\u001b[0m\u001b[1;33m)\u001b[0m\u001b[1;33m\u001b[0m\u001b[1;33m\u001b[0m\u001b[0m\n",
      "\u001b[1;31mTypeError\u001b[0m: 'int' object is not iterable"
     ]
    }
   ],
   "source": [
    "for i in x:\n",
    "    print('value of i is',i)"
   ]
  },
  {
   "cell_type": "code",
   "execution_count": 114,
   "id": "2c38ad56",
   "metadata": {},
   "outputs": [
    {
     "ename": "TypeError",
     "evalue": "object of type 'int' has no len()",
     "output_type": "error",
     "traceback": [
      "\u001b[1;31m---------------------------------------------------------------------------\u001b[0m",
      "\u001b[1;31mTypeError\u001b[0m                                 Traceback (most recent call last)",
      "\u001b[1;32m<ipython-input-114-f5eb794bfe88>\u001b[0m in \u001b[0;36m<module>\u001b[1;34m\u001b[0m\n\u001b[1;32m----> 1\u001b[1;33m \u001b[0mlen\u001b[0m\u001b[1;33m(\u001b[0m\u001b[1;36m10\u001b[0m\u001b[1;33m)\u001b[0m\u001b[1;33m\u001b[0m\u001b[1;33m\u001b[0m\u001b[0m\n\u001b[0m",
      "\u001b[1;31mTypeError\u001b[0m: object of type 'int' has no len()"
     ]
    }
   ],
   "source": [
    "len(10)"
   ]
  },
  {
   "cell_type": "code",
   "execution_count": 115,
   "id": "f7083e24",
   "metadata": {},
   "outputs": [
    {
     "ename": "NameError",
     "evalue": "name 'leng' is not defined",
     "output_type": "error",
     "traceback": [
      "\u001b[1;31m---------------------------------------------------------------------------\u001b[0m",
      "\u001b[1;31mNameError\u001b[0m                                 Traceback (most recent call last)",
      "\u001b[1;32m<ipython-input-115-0818e424baa2>\u001b[0m in \u001b[0;36m<module>\u001b[1;34m\u001b[0m\n\u001b[1;32m----> 1\u001b[1;33m \u001b[0mleng\u001b[0m\u001b[1;33m(\u001b[0m\u001b[1;36m10.5\u001b[0m\u001b[1;33m)\u001b[0m\u001b[1;33m\u001b[0m\u001b[1;33m\u001b[0m\u001b[0m\n\u001b[0m",
      "\u001b[1;31mNameError\u001b[0m: name 'leng' is not defined"
     ]
    }
   ],
   "source": [
    "leng(10.5)"
   ]
  },
  {
   "cell_type": "code",
   "execution_count": 116,
   "id": "e1a58cda",
   "metadata": {
    "scrolled": true
   },
   "outputs": [
    {
     "name": "stdout",
     "output_type": "stream",
     "text": [
      "0\n",
      "1\n",
      "2\n",
      "3\n",
      "4\n",
      "5\n",
      "6\n",
      "7\n",
      "8\n",
      "9\n"
     ]
    }
   ],
   "source": [
    "for i in range(0,10):\n",
    "    print(i)"
   ]
  },
  {
   "cell_type": "markdown",
   "id": "2af19abc",
   "metadata": {},
   "source": [
    "# Continue and Break"
   ]
  },
  {
   "cell_type": "code",
   "execution_count": 2,
   "id": "fc25943b",
   "metadata": {},
   "outputs": [],
   "source": [
    "fru = [ 'apple','banana','mango','orange','banana','pear']"
   ]
  },
  {
   "cell_type": "code",
   "execution_count": 3,
   "id": "30ba11f7",
   "metadata": {
    "scrolled": false
   },
   "outputs": [
    {
     "name": "stdout",
     "output_type": "stream",
     "text": [
      "apple\n",
      "banana\n",
      "mango\n",
      "orange\n",
      "banana\n",
      "pear\n"
     ]
    }
   ],
   "source": [
    "for i in fru:\n",
    "    print(i)"
   ]
  },
  {
   "cell_type": "code",
   "execution_count": 2,
   "id": "c4df5c50",
   "metadata": {},
   "outputs": [],
   "source": [
    "fru = [ 'apple','banana','mango','orange','banana','pear']"
   ]
  },
  {
   "cell_type": "code",
   "execution_count": 4,
   "id": "525215ab",
   "metadata": {},
   "outputs": [
    {
     "name": "stdout",
     "output_type": "stream",
     "text": [
      "apple\n",
      "mango\n",
      "orange\n",
      "pear\n"
     ]
    }
   ],
   "source": [
    "for i in fru:\n",
    "    if i == 'banana':\n",
    "        continue\n",
    "    else:\n",
    "        print(i)"
   ]
  },
  {
   "cell_type": "code",
   "execution_count": 6,
   "id": "ffb6edc5",
   "metadata": {},
   "outputs": [
    {
     "name": "stdout",
     "output_type": "stream",
     "text": [
      "apple\n",
      "banana\n",
      "orange\n",
      "banana\n",
      "pear\n"
     ]
    }
   ],
   "source": [
    "for i in fru:\n",
    "    if i =='mango':\n",
    "        continue\n",
    "    print(i)"
   ]
  },
  {
   "cell_type": "code",
   "execution_count": null,
   "id": "cadf5f77",
   "metadata": {},
   "outputs": [],
   "source": [
    "fru = [ 'apple','banana','mango','orange','banana','pear']"
   ]
  },
  {
   "cell_type": "code",
   "execution_count": 7,
   "id": "ea85aeb3",
   "metadata": {},
   "outputs": [
    {
     "name": "stdout",
     "output_type": "stream",
     "text": [
      "apple\n",
      "banana\n",
      "find mango in the list\n"
     ]
    }
   ],
   "source": [
    "for i in fru:\n",
    "    if i == 'mango':\n",
    "        break\n",
    "    print(i)\n",
    "print('find mango in the list')"
   ]
  },
  {
   "cell_type": "code",
   "execution_count": 8,
   "id": "917000c0",
   "metadata": {},
   "outputs": [
    {
     "name": "stdout",
     "output_type": "stream",
     "text": [
      "apple\n",
      "banana\n",
      "mango\n",
      "orange\n",
      "banana\n",
      "pear\n"
     ]
    }
   ],
   "source": [
    "for i in fru:\n",
    "    if i == 'jackfruit':\n",
    "        break\n",
    "    print(i)\n"
   ]
  },
  {
   "cell_type": "markdown",
   "id": "e662e6e1",
   "metadata": {},
   "source": [
    "# FUNCTIONS"
   ]
  },
  {
   "cell_type": "code",
   "execution_count": 3,
   "id": "1ecc5b08",
   "metadata": {},
   "outputs": [
    {
     "name": "stdout",
     "output_type": "stream",
     "text": [
      "resut of analysis\n",
      "first value is correct\n",
      "second values should be a negative\n",
      "third values is ok to go\n",
      "forth values need update\n"
     ]
    }
   ],
   "source": [
    "print ('resut of analysis')\n",
    "print ('first value is correct')\n",
    "print ('second values should be a negative')\n",
    "print ('third values is ok to go')\n",
    "print ('forth values need update')"
   ]
  },
  {
   "cell_type": "code",
   "execution_count": 4,
   "id": "983a8266",
   "metadata": {},
   "outputs": [
    {
     "name": "stdout",
     "output_type": "stream",
     "text": [
      "resut of analysis\n",
      "first value is correct\n",
      "second values should be a negative\n",
      "third values is ok to go\n",
      "forth values need update\n",
      "resut of analysis\n",
      "first value is correct\n",
      "second values should be a negative\n",
      "third values is ok to go\n",
      "forth values need update\n",
      "resut of analysis\n",
      "first value is correct\n",
      "second values should be a negative\n",
      "third values is ok to go\n",
      "forth values need update\n"
     ]
    }
   ],
   "source": [
    "print ('resut of analysis')\n",
    "print ('first value is correct')\n",
    "print ('second values should be a negative')\n",
    "print ('third values is ok to go')\n",
    "print ('forth values need update')\n",
    "\n",
    "\n",
    "# codes \n",
    "\n",
    "print ('resut of analysis')\n",
    "print ('first value is correct')\n",
    "print ('second values should be a negative')\n",
    "print ('third values is ok to go')\n",
    "print ('forth values need update')\n",
    "\n",
    "#codes \n",
    "\n",
    "print ('resut of analysis')\n",
    "print ('first value is correct')\n",
    "print ('second values should be a negative')\n",
    "print ('third values is ok to go')\n",
    "print ('forth values need update')"
   ]
  },
  {
   "cell_type": "code",
   "execution_count": 7,
   "id": "c8a38c06",
   "metadata": {},
   "outputs": [],
   "source": [
    "def printing () :\n",
    "    print ('resut of analysis')\n",
    "    print ('first value is correct')\n",
    "    print ('second values should be a negative')\n",
    "    print ('third values is ok to go')\n",
    "    print ('forth values need update')"
   ]
  },
  {
   "cell_type": "code",
   "execution_count": 8,
   "id": "94027627",
   "metadata": {},
   "outputs": [
    {
     "name": "stdout",
     "output_type": "stream",
     "text": [
      "resut of analysis\n",
      "first value is correct\n",
      "second values should be a negative\n",
      "third values is ok to go\n",
      "forth values need update\n"
     ]
    }
   ],
   "source": [
    "printing () "
   ]
  },
  {
   "cell_type": "code",
   "execution_count": 9,
   "id": "f1b58fa5",
   "metadata": {
    "scrolled": true
   },
   "outputs": [
    {
     "name": "stdout",
     "output_type": "stream",
     "text": [
      "resut of analysis\n",
      "first value is correct\n",
      "second values should be a negative\n",
      "third values is ok to go\n",
      "forth values need update\n",
      "resut of analysis\n",
      "first value is correct\n",
      "second values should be a negative\n",
      "third values is ok to go\n",
      "forth values need update\n",
      "resut of analysis\n",
      "first value is correct\n",
      "second values should be a negative\n",
      "third values is ok to go\n",
      "forth values need update\n"
     ]
    }
   ],
   "source": [
    "printing ()\n",
    "\n",
    "#codes\n",
    "\n",
    "printing ()\n",
    "\n",
    "#codes \n",
    "\n",
    "printing ()"
   ]
  },
  {
   "cell_type": "code",
   "execution_count": 13,
   "id": "83968429",
   "metadata": {},
   "outputs": [],
   "source": [
    "def printing (x) :\n",
    "    print ('the value of x is ',x)"
   ]
  },
  {
   "cell_type": "code",
   "execution_count": 16,
   "id": "e2906115",
   "metadata": {},
   "outputs": [
    {
     "name": "stdout",
     "output_type": "stream",
     "text": [
      "the value of x is  Teststring\n"
     ]
    }
   ],
   "source": [
    "printing ('Teststring') "
   ]
  },
  {
   "cell_type": "code",
   "execution_count": 14,
   "id": "569f1565",
   "metadata": {},
   "outputs": [
    {
     "name": "stdout",
     "output_type": "stream",
     "text": [
      "the value of x is  10\n"
     ]
    }
   ],
   "source": [
    "printing(10)"
   ]
  },
  {
   "cell_type": "code",
   "execution_count": 15,
   "id": "94bc9238",
   "metadata": {},
   "outputs": [
    {
     "name": "stdout",
     "output_type": "stream",
     "text": [
      "the value of x is  789\n"
     ]
    }
   ],
   "source": [
    "printing (789)"
   ]
  },
  {
   "cell_type": "code",
   "execution_count": 19,
   "id": "cd0733f9",
   "metadata": {},
   "outputs": [],
   "source": [
    "def printing2 (x,y) :\n",
    "    print ('the value of x is ',x)\n",
    "    print ('the value of y is ',y)"
   ]
  },
  {
   "cell_type": "code",
   "execution_count": 20,
   "id": "b214bcc0",
   "metadata": {},
   "outputs": [
    {
     "name": "stdout",
     "output_type": "stream",
     "text": [
      "the value of x is  10\n",
      "the value of y is  589\n"
     ]
    }
   ],
   "source": [
    "printing2 (10,589) "
   ]
  },
  {
   "cell_type": "code",
   "execution_count": 21,
   "id": "834cbed4",
   "metadata": {
    "scrolled": true
   },
   "outputs": [
    {
     "name": "stdout",
     "output_type": "stream",
     "text": [
      "the value of x is  stringx\n",
      "the value of y is  598.5\n"
     ]
    }
   ],
   "source": [
    "printing2 ('stringx',598.50) "
   ]
  },
  {
   "cell_type": "code",
   "execution_count": 22,
   "id": "ea93fac9",
   "metadata": {},
   "outputs": [
    {
     "ename": "TypeError",
     "evalue": "printing2() takes 2 positional arguments but 3 were given",
     "output_type": "error",
     "traceback": [
      "\u001b[1;31m---------------------------------------------------------------------------\u001b[0m",
      "\u001b[1;31mTypeError\u001b[0m                                 Traceback (most recent call last)",
      "\u001b[1;32m<ipython-input-22-621adb3b1fb6>\u001b[0m in \u001b[0;36m<module>\u001b[1;34m\u001b[0m\n\u001b[1;32m----> 1\u001b[1;33m \u001b[0mprinting2\u001b[0m \u001b[1;33m(\u001b[0m\u001b[1;36m10\u001b[0m\u001b[1;33m,\u001b[0m\u001b[1;36m25\u001b[0m\u001b[1;33m,\u001b[0m\u001b[1;36m36\u001b[0m\u001b[1;33m)\u001b[0m\u001b[1;33m\u001b[0m\u001b[1;33m\u001b[0m\u001b[0m\n\u001b[0m",
      "\u001b[1;31mTypeError\u001b[0m: printing2() takes 2 positional arguments but 3 were given"
     ]
    }
   ],
   "source": [
    " printing2 (10,25,36)"
   ]
  },
  {
   "cell_type": "code",
   "execution_count": null,
   "id": "eafc076d",
   "metadata": {},
   "outputs": [],
   "source": [
    "def printing2 (x,y) :\n",
    "    print ('the value of x is ',x)\n",
    "    print ('the value of y is ',y)"
   ]
  },
  {
   "cell_type": "code",
   "execution_count": 23,
   "id": "5a918f44",
   "metadata": {},
   "outputs": [
    {
     "name": "stdout",
     "output_type": "stream",
     "text": [
      "the value of x is  10\n",
      "the value of y is  25\n"
     ]
    }
   ],
   "source": [
    "printing2 (x=10, y=25)"
   ]
  },
  {
   "cell_type": "code",
   "execution_count": 24,
   "id": "0cfe0c4c",
   "metadata": {},
   "outputs": [
    {
     "name": "stdout",
     "output_type": "stream",
     "text": [
      "the value of x is  30\n",
      "the value of y is  25\n"
     ]
    }
   ],
   "source": [
    "printing2 (y=25 ,x =30)"
   ]
  },
  {
   "cell_type": "code",
   "execution_count": 25,
   "id": "d2e98f90",
   "metadata": {},
   "outputs": [],
   "source": [
    "def sumno (x,y) :\n",
    "    z =x+y"
   ]
  },
  {
   "cell_type": "code",
   "execution_count": 26,
   "id": "7eadfa6c",
   "metadata": {},
   "outputs": [],
   "source": [
    " sumno (25 ,20 )"
   ]
  },
  {
   "cell_type": "code",
   "execution_count": 27,
   "id": "4c42b869",
   "metadata": {},
   "outputs": [
    {
     "ename": "NameError",
     "evalue": "name 'z' is not defined",
     "output_type": "error",
     "traceback": [
      "\u001b[1;31m---------------------------------------------------------------------------\u001b[0m",
      "\u001b[1;31mNameError\u001b[0m                                 Traceback (most recent call last)",
      "\u001b[1;32m<ipython-input-27-c01ac3f50fdc>\u001b[0m in \u001b[0;36m<module>\u001b[1;34m\u001b[0m\n\u001b[1;32m----> 1\u001b[1;33m \u001b[0mprint\u001b[0m\u001b[1;33m(\u001b[0m\u001b[0mz\u001b[0m\u001b[1;33m)\u001b[0m\u001b[1;33m\u001b[0m\u001b[1;33m\u001b[0m\u001b[0m\n\u001b[0m",
      "\u001b[1;31mNameError\u001b[0m: name 'z' is not defined"
     ]
    }
   ],
   "source": [
    "print(z)"
   ]
  },
  {
   "cell_type": "code",
   "execution_count": 29,
   "id": "c59b3125",
   "metadata": {},
   "outputs": [],
   "source": [
    "def sumno (x,y) :\n",
    "    z =x+y\n",
    "    return z"
   ]
  },
  {
   "cell_type": "code",
   "execution_count": 30,
   "id": "fefd51e4",
   "metadata": {},
   "outputs": [],
   "source": [
    "z = sumno (10,25) "
   ]
  },
  {
   "cell_type": "code",
   "execution_count": 31,
   "id": "247d6aa5",
   "metadata": {},
   "outputs": [
    {
     "name": "stdout",
     "output_type": "stream",
     "text": [
      "35\n"
     ]
    }
   ],
   "source": [
    "print(z)"
   ]
  }
 ],
 "metadata": {
  "kernelspec": {
   "display_name": "Python 3",
   "language": "python",
   "name": "python3"
  },
  "language_info": {
   "codemirror_mode": {
    "name": "ipython",
    "version": 3
   },
   "file_extension": ".py",
   "mimetype": "text/x-python",
   "name": "python",
   "nbconvert_exporter": "python",
   "pygments_lexer": "ipython3",
   "version": "3.8.8"
  }
 },
 "nbformat": 4,
 "nbformat_minor": 5
}
